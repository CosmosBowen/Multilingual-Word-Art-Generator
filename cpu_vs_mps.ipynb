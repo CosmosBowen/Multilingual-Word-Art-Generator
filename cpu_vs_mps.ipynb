{
 "cells": [
  {
   "cell_type": "code",
   "execution_count": 1,
   "metadata": {},
   "outputs": [
    {
     "name": "stdout",
     "output_type": "stream",
     "text": [
      "Device: CPU\n",
      "Total time for 10 ops: 311.56 ms\n",
      "Average time per op: 31.16 ms\n",
      "\n",
      "Device: MPS\n",
      "Total time for 10 ops: 205.69 ms\n",
      "Average time per op: 20.57 ms\n",
      "\n"
     ]
    }
   ],
   "source": [
    "import torch\n",
    "import time\n",
    "\n",
    "# Check available devices\n",
    "devices = ['cpu']\n",
    "if torch.backends.mps.is_available():\n",
    "    devices.append('mps')\n",
    "\n",
    "# Tensor dimensions and test parameters\n",
    "size = (10000, 10000)  # Large tensor for measurable computation\n",
    "repeats = 10  # Number of repeats for stable timing\n",
    "\n",
    "for device in devices:\n",
    "    # Create tensor on target device\n",
    "    x = torch.randn(size, device=device)\n",
    "    \n",
    "    # Warm-up to avoid initialization overhead\n",
    "    _ = x * x\n",
    "    if device == 'mps':\n",
    "        torch.mps.synchronize()  # MPS operations are asynchronous\n",
    "    \n",
    "    # Timing loop\n",
    "    start_time = time.time()\n",
    "    for _ in range(repeats):\n",
    "        y = x * x  # Element-wise multiplication\n",
    "    if device == 'mps':\n",
    "        torch.mps.synchronize()  # Wait for MPS operations to complete\n",
    "    total_time_ms = (time.time() - start_time) * 1000  # Convert to milliseconds\n",
    "    \n",
    "    # Calculate average time per operation\n",
    "    avg_time_ms = total_time_ms / repeats\n",
    "    \n",
    "    # Results\n",
    "    print(f\"Device: {device.upper()}\")\n",
    "    print(f\"Total time for {repeats} ops: {total_time_ms:.2f} ms\")\n",
    "    print(f\"Average time per op: {avg_time_ms:.2f} ms\\n\")"
   ]
  }
 ],
 "metadata": {
  "kernelspec": {
   "display_name": "word_art",
   "language": "python",
   "name": "python3"
  },
  "language_info": {
   "codemirror_mode": {
    "name": "ipython",
    "version": 3
   },
   "file_extension": ".py",
   "mimetype": "text/x-python",
   "name": "python",
   "nbconvert_exporter": "python",
   "pygments_lexer": "ipython3",
   "version": "3.10.16"
  }
 },
 "nbformat": 4,
 "nbformat_minor": 2
}
